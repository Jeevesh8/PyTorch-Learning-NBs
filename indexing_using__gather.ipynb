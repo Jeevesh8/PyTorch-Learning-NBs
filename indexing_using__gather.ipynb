{
  "nbformat": 4,
  "nbformat_minor": 0,
  "metadata": {
    "colab": {
      "name": "Indexing_using _gather.ipynb",
      "provenance": [],
      "authorship_tag": "ABX9TyNSwm+hOVLSTEpIKc3ZegKV",
      "include_colab_link": true
    },
    "kernelspec": {
      "name": "python3",
      "display_name": "Python 3"
    }
  },
  "cells": [
    {
      "cell_type": "markdown",
      "metadata": {
        "id": "view-in-github",
        "colab_type": "text"
      },
      "source": [
        "<a href=\"https://colab.research.google.com/github/Jeevesh8/PyTorch-Learning-NBs/blob/master/indexing_using__gather.ipynb\" target=\"_parent\"><img src=\"https://colab.research.google.com/assets/colab-badge.svg\" alt=\"Open In Colab\"/></a>"
      ]
    },
    {
      "cell_type": "code",
      "metadata": {
        "id": "LJS_alGR3HyU",
        "colab_type": "code",
        "colab": {}
      },
      "source": [
        "import torch\n",
        "x = torch.tensor([[2.,3.,4], [4,5,7.8]])"
      ],
      "execution_count": 0,
      "outputs": []
    },
    {
      "cell_type": "code",
      "metadata": {
        "id": "6zOaNUUQ3QpL",
        "colab_type": "code",
        "colab": {}
      },
      "source": [
        "#doesn't work\n",
        "#y = torch.tensor([1,2]) does not work      #Same number of dimensions as x must be there\n",
        "#y = torch.tensor([1.,2]) does not work     #y Must be int/long"
      ],
      "execution_count": 0,
      "outputs": []
    },
    {
      "cell_type": "code",
      "metadata": {
        "id": "Xl_NFnPs3XPV",
        "colab_type": "code",
        "colab": {
          "base_uri": "https://localhost:8080/",
          "height": 52
        },
        "outputId": "fd24b776-d948-4134-f967-4962103850c9"
      },
      "source": [
        "y = torch.tensor([[1],[2]])\n",
        "print(x.gather(1, y))                       #Will select elements along 1th dimension"
      ],
      "execution_count": 2,
      "outputs": [
        {
          "output_type": "stream",
          "text": [
            "tensor([[3.0000],\n",
            "        [7.8000]])\n"
          ],
          "name": "stdout"
        }
      ]
    },
    {
      "cell_type": "code",
      "metadata": {
        "id": "hf9NIawr3c1Y",
        "colab_type": "code",
        "colab": {
          "base_uri": "https://localhost:8080/",
          "height": 52
        },
        "outputId": "d3b796f6-8866-4a37-dfd3-7dea969c252f"
      },
      "source": [
        "y = torch.tensor([[1,2],[0,0]]) \n",
        "print(x.gather(1,y))                        #Can select any number of elements along 1th dimension"
      ],
      "execution_count": 3,
      "outputs": [
        {
          "output_type": "stream",
          "text": [
            "tensor([[3., 4.],\n",
            "        [4., 4.]])\n"
          ],
          "name": "stdout"
        }
      ]
    },
    {
      "cell_type": "code",
      "metadata": {
        "id": "mn6V8fLq3pGm",
        "colab_type": "code",
        "colab": {}
      },
      "source": [
        "#doesn't work:- Trying to pick 0th and 1th tensor along the 0th dimension \n",
        "#y = torch.tensor([[0],[1]])<---|-------|                   |\n",
        "#print(x.gather(0,y))<---------------------------------------"
      ],
      "execution_count": 0,
      "outputs": []
    },
    {
      "cell_type": "code",
      "metadata": {
        "id": "PKeB6TSx3t0h",
        "colab_type": "code",
        "colab": {}
      },
      "source": [
        "#doesn't work \n",
        "#y = torch.tensor([[0],[1],[0]])            #To gather from 0th dimension of tensor of size n1Xn2 use  matrix of size 1Xn2 and\n",
        "#print(x.gather(0,y))                       #To gather from 1th use tensor of size n1X1"
      ],
      "execution_count": 0,
      "outputs": []
    },
    {
      "cell_type": "code",
      "metadata": {
        "id": "FdPfFFKl3rfv",
        "colab_type": "code",
        "colab": {
          "base_uri": "https://localhost:8080/",
          "height": 35
        },
        "outputId": "ab670ae0-ef41-4727-b9a9-1dbe228a40d6"
      },
      "source": [
        "y = torch.tensor([[0,1,0]])                 #You have to specify an element to select from each column of the 2X3 matrix,\n",
        "print(x.gather(0,y))                        #When you are selecting along dimension corresponding to rows"
      ],
      "execution_count": 4,
      "outputs": [
        {
          "output_type": "stream",
          "text": [
            "tensor([[2., 5., 4.]])\n"
          ],
          "name": "stdout"
        }
      ]
    }
  ]
}